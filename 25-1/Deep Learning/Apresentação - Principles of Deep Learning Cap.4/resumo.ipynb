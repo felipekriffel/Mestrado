{
 "cells": [
  {
   "cell_type": "markdown",
   "id": "a6e44943",
   "metadata": {},
   "source": [
    "# Capítulo 4"
   ]
  },
  {
   "cell_type": "markdown",
   "id": "6663d5fc",
   "metadata": {},
   "source": [
    "## 4.1 - 1ª Camada: a Boa e Velha Gaussiana"
   ]
  },
  {
   "cell_type": "markdown",
   "id": "4438c121",
   "metadata": {},
   "source": [
    "Dataset com inputs $n_0$-dimensionais e com $N_D$ amostras:\n",
    "\n",
    "$$\n",
    "D = \\{x_{i,\\alpha}\\}_{i=1,\\dots,n_0; \\alpha=  1, \\dots, N_D}\n",
    "$$\n",
    "\n"
   ]
  },
  {
   "cell_type": "markdown",
   "id": "1ca8968b",
   "metadata": {},
   "source": [
    "Pré-ativações da 1ª camada são dadas por:\n",
    "\n",
    "$$\n",
    "z^{(1)}_{i,\\alpha} \\equiv z^{(1)}_i(x_\\alpha) = b^{(1)}_i + \\sum_{j=1}^{n_0} W^{(1)}_{ij} \\, x_{j,\\alpha}, \\quad \\text{para } i = 1, \\dots, n_1.\n",
    "$$"
   ]
  },
  {
   "cell_type": "markdown",
   "id": "a2fcff63",
   "metadata": {},
   "source": [
    "Na inicialização, estabelecemos $b^{(1)},W^{(1)}$ independentemente distribuídas e tais que:\n",
    "$$\n",
    "\\mathbb E[b_i^{(1)}] = \\mathbb E[W_{i_1j_1}^{(1)}] = 0\n",
    "$$\n",
    "e\n",
    "$$\n",
    "\\mathbb E[b_i^{(1)}b_j^{(1)}] = \\delta_ij C_b^{(1)} \\\\\n",
    "\\mathbb E[W_{i_1j_1}^{(1)}W_{i_2j_2}^{(1)}] = \\delta_{i_1i_2}\\delta_{j_1j_2} \\frac{C_W^{(1)}}{n_0}\n",
    "$$"
   ]
  },
  {
   "cell_type": "markdown",
   "id": "7567108b",
   "metadata": {},
   "source": [
    "Estamos interessados em:\n",
    "\n",
    "$$\n",
    "p(z^{(1)}|D) = p(z^{(1)},\\dots,z^{(1)}(x_{N_D}))\n",
    "$$"
   ]
  },
  {
   "cell_type": "markdown",
   "id": "4312db8c",
   "metadata": {},
   "source": [
    "Nossa ideia é calcular a distribuição das preativações na inicialização."
   ]
  },
  {
   "cell_type": "markdown",
   "id": "bd65c648",
   "metadata": {},
   "source": [
    "## 4.1 Primeira camada: boa e velha Gaussiana"
   ]
  },
  {
   "cell_type": "markdown",
   "id": "31cfb2ea",
   "metadata": {},
   "source": [
    "Dois caminhos: um combinatorial e um algébrico"
   ]
  },
  {
   "cell_type": "markdown",
   "id": "c9b94916",
   "metadata": {},
   "source": [
    "### \"Wick this way\": derivação combinatorial por correlatores"
   ]
  },
  {
   "cell_type": "markdown",
   "id": "bca8752c",
   "metadata": {},
   "source": [
    "Vemos primeiramente que:\n",
    "$$\n",
    "\\mathbb E[z_{i,\\alpha}^{(1)}] = \\mathbb E[b_i^{(1)} + \\sum_{j=1}^{n_0}W_{ij}^{(1)}x_{j,\\alpha_1}] \\\\\n",
    "= \\mathbb E[b_i^{(1)}] + \\sum_{j=1}^{n_0} \\mathbb E[W_{ij}] x_{j,\\alpha} = 0\n",
    "$$\n",
    "dado que as distribuições tem média 0.\n",
    "\n",
    "É \"fácil ver que\" todos os correlatores de ordem ímpar de $p(z^{(1)}| D)$ são zerados, porque sempre sobra um $b^{(1)}$ ou $W^{(1)}$ isolado que sera a conta."
   ]
  },
  {
   "cell_type": "markdown",
   "id": "ccc9af98",
   "metadata": {},
   "source": [
    "Para um correlator de dois pontos:\n",
    "$$\n",
    "\\mathbb{E} \\left[ z^{(1)}_{i_1;\\alpha_1} \\, z^{(1)}_{i_2;\\alpha_2} \\right]\n",
    "= \\mathbb{E} \\left[\n",
    "\\left( b^{(1)}_{i_1} + \\sum_{j_1=1}^{n_0} W^{(1)}_{i_1 j_1} x_{j_1; \\alpha_1} \\right)\n",
    "\\left( b^{(1)}_{i_2} + \\sum_{j_2=1}^{n_0} W^{(1)}_{i_2 j_2} x_{j_2; \\alpha_2} \\right)\n",
    "\\right] \\\\\n",
    "\n",
    "= \\mathbb E [b_{i_1}b_{i_2}]  + \\sum_{j_1}\\mathbb E[b_{i_2}W_{i_1,j_1}]x_{j_1,\\alpha_1} + \\sum_{j_2}\\mathbb E[b_{i_1}W_{i_2,j_2}]x_{j_2,\\alpha_2} \\\\+ \\mathbb E[(\\sum_{j_1=1}^{n_0} W^{(1)}_{i_1 j_1} x_{j_1; \\alpha_1})(\\sum_{j_2=1}^{n_0} W^{(1)}_{i_2 j_2} x_{j_2; \\alpha_2})] \\\\\n",
    "\n",
    "= \\delta_{i_1 i_2}C_b^{(1)} + \\sum_{j_1,j_2=1}^{n_0} \\mathbb E[W_{i_1j_1}W_{i_2j_2}]x_{j,\\alpha_1} x_{j,\\alpha_2} \\\\\n",
    "\n",
    "= \\delta_{i_1 i_2} \\left( C_b^{(1)} + C_W^{(1)} \\frac{1}{n_0} \\sum_{j=1}^{n_0} x_{j; \\alpha_1} x_{j; \\alpha_2} \\right) \n",
    "$$\n"
   ]
  },
  {
   "cell_type": "markdown",
   "id": "3c5c21f3",
   "metadata": {},
   "source": [
    "Dfinimos a seguinte expressão como a métrica de primeira camada:\n",
    "$$\n",
    "G_{\\alpha_1\\alpha_2}^{(1)} := C_b^{(1)} + C_W^{(1)} \\frac{1}{n_0} \\sum_{j=1}^{n_0} x_{j; \\alpha_1} x_{j; \\alpha_2}\n",
    "$$\n",
    "\n",
    "Note que é uma função de $x_{\\alpha_1}, x_{\\alpha_2}$. Ela representa a correlação de dois pontos entre amostras diferentes. Assim, nossa igualdade acima se traduz como:\n",
    "\n",
    "$$\n",
    "\\mathbb{E} \\left[ z^{(1)}_{i_1;\\alpha_1} \\, z^{(1)}_{i_2;\\alpha_2} \\right] = \\delta_{i_1i_2} G_{\\alpha_1\\alpha_2}^{(1)}\n",
    "$$"
   ]
  },
  {
   "cell_type": "markdown",
   "id": "d697b821",
   "metadata": {},
   "source": [
    "Seguindo a mesma ideia:\n",
    "\n",
    "$$\n",
    "\\mathbb E[z^{(1)}_{i_1; \\alpha_1} z^{(1)}_{i_2; \\alpha_2} z^{(1)}_{i_3; \\alpha_3} z^{(1)}_{i_4; \\alpha_4}]\n",
    "\\\\ \n",
    "\n",
    "= \\delta_{i_1 i_2} \\delta_{i_3 i_4} G^{(1)}_{\\alpha_1 \\alpha_2} G^{(1)}_{\\alpha_3 \\alpha_4}\n",
    "+ \\delta_{i_1 i_3} \\delta_{i_2 i_4} G^{(1)}_{\\alpha_1 \\alpha_3} G^{(1)}_{\\alpha_2 \\alpha_4}\n",
    "+ \\delta_{i_1 i_4} \\delta_{i_2 i_3} G^{(1)}_{\\alpha_1 \\alpha_4} G^{(1)}_{\\alpha_2 \\alpha_3} \\tag{4.9} \\\\\n",
    "\n",
    "= \\mathbb{E} \\left[ z^{(1)}_{i_1; \\alpha_1} z^{(1)}_{i_2; \\alpha_2} \\right]\n",
    "\\mathbb{E} \\left[ z^{(1)}_{i_3; \\alpha_3} z^{(1)}_{i_4; \\alpha_4} \\right] \\\\\n",
    "\n",
    "+ \\mathbb{E} \\left[ z^{(1)}_{i_1; \\alpha_1} z^{(1)}_{i_3; \\alpha_3} \\right]\n",
    "\\mathbb{E} \\left[ z^{(1)}_{i_2; \\alpha_2} z^{(1)}_{i_4; \\alpha_4} \\right] \\\\\n",
    "+ \\mathbb{E} \\left[ z^{(1)}_{i_1; \\alpha_1} z^{(1)}_{i_4; \\alpha_4} \\right]\n",
    "\\mathbb{E} \\left[ z^{(1)}_{i_2; \\alpha_2} z^{(1)}_{i_3; \\alpha_3} \\right]\n",
    "$$"
   ]
  },
  {
   "cell_type": "markdown",
   "id": "f377d6f8",
   "metadata": {},
   "source": [
    "Lembrando de discussão anterior, isso significa que\n",
    "\n",
    "$$\n",
    "\\mathbb E[z^{(1)}_{i_1; \\alpha_1} z^{(1)}_{i_2; \\alpha_2} z^{(1)}_{i_3; \\alpha_3} z^{(1)}_{i_4; \\alpha_4}]\\big |_\\text{connected} = 0\n",
    "$$"
   ]
  }
 ],
 "metadata": {
  "kernelspec": {
   "display_name": "Python 3",
   "language": "python",
   "name": "python3"
  },
  "language_info": {
   "name": "python",
   "version": "3.10.12"
  }
 },
 "nbformat": 4,
 "nbformat_minor": 5
}
