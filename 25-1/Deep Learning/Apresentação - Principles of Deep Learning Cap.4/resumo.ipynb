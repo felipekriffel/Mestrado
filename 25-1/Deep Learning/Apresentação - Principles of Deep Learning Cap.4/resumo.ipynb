{
 "cells": [
  {
   "cell_type": "markdown",
   "id": "a6e44943",
   "metadata": {},
   "source": [
    "# Capítulo 4"
   ]
  },
  {
   "cell_type": "markdown",
   "id": "6663d5fc",
   "metadata": {},
   "source": [
    "## 4.1 - 1ª Camada: a Boa e Velha Gaussiana"
   ]
  },
  {
   "cell_type": "markdown",
   "id": "4438c121",
   "metadata": {},
   "source": [
    "Dataset com inputs $n_0$-dimensionais e com $N_D$ amostras:\n",
    "\n",
    "$$\n",
    "D = \\{x_{i,\\alpha}\\}_{i=1,\\dots,n_0; \\alpha=  1, \\dots, N_D}\n",
    "$$\n",
    "\n"
   ]
  },
  {
   "cell_type": "markdown",
   "id": "1ca8968b",
   "metadata": {},
   "source": [
    "Pré-ativações da 1ª camada são dadas por:\n",
    "\n",
    "$$\n",
    "z^{(1)}_{i,\\alpha} \\equiv z^{(1)}_i(x_\\alpha) = b^{(1)}_i + \\sum_{j=1}^{n_0} W^{(1)}_{ij} \\, x_{j,\\alpha}, \\quad \\text{para } i = 1, \\dots, n_1.\n",
    "$$"
   ]
  },
  {
   "cell_type": "markdown",
   "id": "a2fcff63",
   "metadata": {},
   "source": [
    "Na inicialização, estabelecemos $b^{(1)},W^{(1)}$ independentemente distribuídas e tais que:\n",
    "$$\n",
    "\\mathbb E[b_i^{(1)}] = \\mathbb E[W_{i_1j_1}^{(1)}] = 0\n",
    "$$\n",
    "e\n",
    "$$\n",
    "\\mathbb E[b_i^{(1)}b_j^{(1)}] = \\delta_ij C_b^{(1)} \\\\\n",
    "\\mathbb E[W_{i_1j_1}^{(1)}W_{i_2j_2}^{(1)}] = \\delta_{i_1i_2}\\delta_{j_1j_2} \\frac{C_W^{(1)}}{n_0}\n",
    "$$"
   ]
  },
  {
   "cell_type": "markdown",
   "id": "7567108b",
   "metadata": {},
   "source": [
    "Estamos interessados em:\n",
    "\n",
    "$$\n",
    "p(z^{(1)}|D) = p(z^{(1)}(x_1),\\dots,z^{(1)}(x_{N_D}))\n",
    "$$"
   ]
  },
  {
   "cell_type": "markdown",
   "id": "4312db8c",
   "metadata": {},
   "source": [
    "Nossa ideia é calcular a distribuição das preativações na inicialização."
   ]
  },
  {
   "cell_type": "markdown",
   "id": "bd65c648",
   "metadata": {},
   "source": [
    "## 4.1 Primeira camada: boa e velha Gaussiana"
   ]
  },
  {
   "cell_type": "markdown",
   "id": "31cfb2ea",
   "metadata": {},
   "source": [
    "Dois caminhos: um combinatorial e um algébrico"
   ]
  },
  {
   "cell_type": "markdown",
   "id": "c9b94916",
   "metadata": {},
   "source": [
    "### \"Wick this way\": derivação combinatorial por correlatores"
   ]
  },
  {
   "cell_type": "markdown",
   "id": "bca8752c",
   "metadata": {},
   "source": [
    "Vemos primeiramente que:\n",
    "$$\n",
    "\\mathbb E[z_{i,\\alpha}^{(1)}] = \\mathbb E[b_i^{(1)} + \\sum_{j=1}^{n_0}W_{ij}^{(1)}x_{j,\\alpha_1}] \\\\\n",
    "= \\mathbb E[b_i^{(1)}] + \\sum_{j=1}^{n_0} \\mathbb E[W_{ij}] x_{j,\\alpha} = 0\n",
    "$$\n",
    "dado que as distribuições tem média 0.\n",
    "\n",
    "É \"fácil ver que\" todos os correlatores de ordem ímpar de $p(z^{(1)}| D)$ são zerados, porque sempre sobra um $b^{(1)}$ ou $W^{(1)}$ em cada termo que sera a conta."
   ]
  },
  {
   "cell_type": "markdown",
   "id": "ccc9af98",
   "metadata": {},
   "source": [
    "Para um correlator de dois pontos:\n",
    "$$\n",
    "\\mathbb{E} \\left[ z^{(1)}_{i_1;\\alpha_1} \\, z^{(1)}_{i_2;\\alpha_2} \\right]\n",
    "= \\mathbb{E} \\left[\n",
    "\\left( b^{(1)}_{i_1} + \\sum_{j_1=1}^{n_0} W^{(1)}_{i_1 j_1} x_{j_1; \\alpha_1} \\right)\n",
    "\\left( b^{(1)}_{i_2} + \\sum_{j_2=1}^{n_0} W^{(1)}_{i_2 j_2} x_{j_2; \\alpha_2} \\right)\n",
    "\\right] \\\\\n",
    "\n",
    "= \\mathbb E [b_{i_1}b_{i_2}]  + \\sum_{j_1}\\mathbb E[b_{i_2}W_{i_1,j_1}]x_{j_1,\\alpha_1} + \\sum_{j_2}\\mathbb E[b_{i_1}W_{i_2,j_2}]x_{j_2,\\alpha_2} \\\\\n",
    "\n",
    "+ \\mathbb E[(\\sum_{j_1=1}^{n_0} W^{(1)}_{i_1 j_1} x_{j_1; \\alpha_1})(\\sum_{j_2=1}^{n_0} W^{(1)}_{i_2 j_2} x_{j_2; \\alpha_2})] \\\\\n",
    "\n",
    "= \\delta_{i_1 i_2}C_b^{(1)} + \\sum_{j_1,j_2=1}^{n_0} \\mathbb E[W_{i_1j_1}W_{i_2j_2}]x_{j,\\alpha_1} x_{j,\\alpha_2} \\\\\n",
    "\n",
    "= \\delta_{i_1 i_2} \\left( C_b^{(1)} + C_W^{(1)} \\frac{1}{n_0} \\sum_{j=1}^{n_0} x_{j; \\alpha_1} x_{j; \\alpha_2} \\right) \n",
    "$$\n"
   ]
  },
  {
   "cell_type": "markdown",
   "id": "3c5c21f3",
   "metadata": {},
   "source": [
    "Definimos a seguinte expressão como a **métrica de primeira camada**:\n",
    "$$\n",
    "G_{\\alpha_1\\alpha_2}^{(1)} := C_b^{(1)} + C_W^{(1)} \\frac{1}{n_0} \\sum_{j=1}^{n_0} x_{j; \\alpha_1} x_{j; \\alpha_2}\n",
    "$$\n",
    "\n",
    "Note que é uma função de $x_{\\alpha_1}, x_{\\alpha_2}$. Ela representa a correlação de dois pontos entre amostras diferentes. Assim, nossa igualdade acima se traduz como:\n",
    "\n",
    "$$\n",
    "\\mathbb{E} \\left[ z^{(1)}_{i_1;\\alpha_1} \\, z^{(1)}_{i_2;\\alpha_2} \\right] = \\delta_{i_1i_2} G_{\\alpha_1\\alpha_2}^{(1)}\n",
    "$$"
   ]
  },
  {
   "cell_type": "markdown",
   "id": "d697b821",
   "metadata": {},
   "source": [
    "Seguindo a mesma ideia:\n",
    "\n",
    "$$\n",
    "\\mathbb E[z^{(1)}_{i_1; \\alpha_1} z^{(1)}_{i_2; \\alpha_2} z^{(1)}_{i_3; \\alpha_3} z^{(1)}_{i_4; \\alpha_4}]\n",
    "\\\\ \n",
    "\n",
    "= \\delta_{i_1 i_2} \\delta_{i_3 i_4} G^{(1)}_{\\alpha_1 \\alpha_2} G^{(1)}_{\\alpha_3 \\alpha_4}\n",
    "+ \\delta_{i_1 i_3} \\delta_{i_2 i_4} G^{(1)}_{\\alpha_1 \\alpha_3} G^{(1)}_{\\alpha_2 \\alpha_4}\n",
    "+ \\delta_{i_1 i_4} \\delta_{i_2 i_3} G^{(1)}_{\\alpha_1 \\alpha_4} G^{(1)}_{\\alpha_2 \\alpha_3} \\tag{4.9} \\\\\n",
    "\n",
    "= \\mathbb{E} \\left[ z^{(1)}_{i_1; \\alpha_1} z^{(1)}_{i_2; \\alpha_2} \\right]\n",
    "\\mathbb{E} \\left[ z^{(1)}_{i_3; \\alpha_3} z^{(1)}_{i_4; \\alpha_4} \\right] \\\\\n",
    "\n",
    "+ \\mathbb{E} \\left[ z^{(1)}_{i_1; \\alpha_1} z^{(1)}_{i_3; \\alpha_3} \\right]\n",
    "\\mathbb{E} \\left[ z^{(1)}_{i_2; \\alpha_2} z^{(1)}_{i_4; \\alpha_4} \\right] \\\\\n",
    "+ \\mathbb{E} \\left[ z^{(1)}_{i_1; \\alpha_1} z^{(1)}_{i_4; \\alpha_4} \\right]\n",
    "\\mathbb{E} \\left[ z^{(1)}_{i_2; \\alpha_2} z^{(1)}_{i_3; \\alpha_3} \\right]\n",
    "$$"
   ]
  },
  {
   "cell_type": "markdown",
   "id": "f377d6f8",
   "metadata": {},
   "source": [
    "Lembrando de discussão anterior, isso significa que\n",
    "\n",
    "$$\n",
    "\\mathbb E[z^{(1)}_{i_1; \\alpha_1} z^{(1)}_{i_2; \\alpha_2} z^{(1)}_{i_3; \\alpha_3} z^{(1)}_{i_4; \\alpha_4}]\\big |_\\text{connected} = 0\n",
    "$$"
   ]
  },
  {
   "cell_type": "markdown",
   "id": "7991328b",
   "metadata": {},
   "source": [
    "De forma similar, podemos verificar que todos os correlatores conexos de ordem mais alta zeram, e portanto, os correlatores podem ser gerados por uma Gaussiana."
   ]
  },
  {
   "cell_type": "markdown",
   "id": "2b25e58d",
   "metadata": {},
   "source": [
    "Lembrando, uma distribuição Gaussiana multivariada $z$ de média $s$ e matriz de covariância $K$ pode ser escrita como\n",
    "\n",
    "$$\n",
    "p(z) = \\frac{1}{\\sqrt{|2\\pi K|}} \\exp\\left[ - \\frac 1 2 \\sum_{\\mu,\\nu=1}^N (z-s)_\\mu K  ^{\\mu\\nu}(z-s)_\\nu \\right] \\\\\n",
    "= \\frac{1}{\\sqrt{|2\\pi K|}} \\exp\\left[ - \\frac 1 2 (z-s)^T K^{-1} (z-s) \\right]\n",
    "$$\n",
    "\n",
    "onde $K^{\\mu\\nu} = (K^{-1})_{\\mu\\nu}$."
   ]
  },
  {
   "cell_type": "markdown",
   "id": "16832050",
   "metadata": {},
   "source": [
    "Para escrever a distribuição de primeira camada, precisamos da inversa da matriz  $\\delta_{i_1i_2}G_{(1)}^{\\alpha_1\\alpha_2}$, para cada par de índices $i_1,i_2$, que satisfaça\n",
    "\n",
    "$$\n",
    "\\sum_{j=1}^{n_1} \\sum_{\\beta \\in D} (\\delta_{i_1 j} G^{\\alpha_1 \\beta}_{(1)})(\\delta_{i_2 j} G_{\\beta \\alpha_2}^{(1)}) = \\delta_{i_1i_2}\\delta^{\\alpha_1}_{\\alpha_2}\n",
    "$$\n",
    "\n",
    "Aqui, $G^{\\alpha \\beta}_{(1)}$ denota as entradas da matriz $(G^{(1)})^{-1}_{\\alpha \\beta} \\in \\mathbb R^{N_D}$, com as métricas $G^{(1)}_{\\alpha\\beta}$ para duas entradas ${x_\\alpha}, {x_\\beta}$, satisfazendo\n",
    "\n",
    "$$\n",
    "\\sum_{\\beta \\in D} G^{\\alpha_1 \\beta}_{(1)}G_{\\beta \\alpha_2}^{(1)} = \\delta^{\\alpha_1}_{\\alpha_2}\n",
    "$$"
   ]
  },
  {
   "cell_type": "markdown",
   "id": "526af507",
   "metadata": {},
   "source": [
    "Podemos, então, escrever a distribuição $p(z^{(1)}|D)$ na forma:\n",
    "\n",
    "$$\n",
    "p(z^{(1)}|D) = \\frac{1}{Z} e^{-S(z^{(1)})}\n",
    "$$\n",
    "onde $S$ é a *ação quadrática*\n",
    "$$\n",
    "S(z^{(1)}) = \\frac{1}{2} \\sum_{i=1}^{n_1} \\sum_{\\alpha_1,\\alpha_2 \\in D} z^{(1)}_{i;\\alpha_1} G^{\\alpha_1 \\alpha_2}_{(1)} z^{(1)}_{i;\\alpha_2} \\\\\n",
    "\n",
    "\\left(=\\sum_{i,j=1}^{n_1} \\sum_{\\alpha_1,\\alpha_2 \\in D} z^{(1)}_{i;\\alpha_1} \\delta_{ij} G^{\\alpha_1 \\alpha_2}_{(1)} z^{(1)}_{j;\\alpha_2} \\right)\n",
    "$$\n",
    "\n",
    "e $Z$ é a *função de partição*:\n",
    "$$\n",
    "Z = \\int \\left[ \\prod_{i,\\alpha} dz_{i,\\alpha}^{(1)} \\right] e^{-S(z^{(1)})} \\\\\n",
    "\n",
    "\n",
    "= \\int \\left[ \\prod_{i,\\alpha} dz_{i,\\alpha}^{(1)} \\right] \\prod_{i=1}^{n_1} \\exp \\left( -\\frac{1}{2} \\sum_{\\alpha_1,\\alpha_2 \\in D} z^{(1)}_{i;\\alpha_1} G^{\\alpha_1 \\alpha_2}_{(1)} z^{(1)}_{i;\\alpha_2} \\right)  \\\\\n",
    "\n",
    "= \\int \\prod_{i}^{n_1} \\left[ \\prod_{\\alpha} dz_{i,\\alpha}^{(1)} \\exp \\left( -\\frac{1}{2} \\sum_{\\alpha_1,\\alpha_2 \\in D} z^{(1)}_{i;\\alpha_1} G^{\\alpha_1 \\alpha_2}_{(1)} z^{(1)}_{i;\\alpha_2} \\right)  \\\\ \\right] \\\\\n",
    "\n",
    "= \\prod_{i}^{n_1} \\left[ \\int \\prod_{\\alpha} dz_{i,\\alpha}^{(1)} \\exp \\left( -\\frac{1}{2} \\sum_{\\alpha_1,\\alpha_2 \\in D} z^{(1)}_{i;\\alpha_1} G^{\\alpha_1 \\alpha_2}_{(1)} z^{(1)}_{i;\\alpha_2} \\right) \\right]  \\\\  \\\\\n",
    "\n",
    "= \\prod_{i}^{n_1} \\sqrt{|2 \\pi G^{(1)}|} \\\\\n",
    "\n",
    "= |2 \\pi G^{(1)}|^{\\frac{n_1}{2}}\n",
    "$$\n",
    "\n",
    "sendo $2\\pi G^{(1)}$ determinante da matriz $(2\\pi G^{(1)})_{\\alpha\\beta} \\in \\mathbb R^{N_D \\times N_D}$"
   ]
  },
  {
   "cell_type": "markdown",
   "id": "10e44a02",
   "metadata": {},
   "source": [
    "### \"Moda à Hubbard-Stratonovich\": derivação algébria via ação"
   ]
  },
  {
   "cell_type": "markdown",
   "id": "06ba2467",
   "metadata": {},
   "source": [
    "Como visto no capítulo anterior, podemos expressar a distribuição na forma\n",
    "\n",
    "$$\n",
    "p(z \\mid D) = \\int \\left[ \\prod_j db_j \\, p(b_j) \\right] \n",
    "\\left[ \\prod_{j,k} dW_{jk} \\, p(W_{jk}) \\right] \n",
    "\\prod_{j,\\alpha} \\delta \\left( z_{j;\\alpha} - b_i - \\sum_j W_{jk} x_{j;\\alpha} \\right)\n",
    "$$\n",
    "\n",
    "suprimindo por hora os sobrescritos $(1)$."
   ]
  },
  {
   "cell_type": "markdown",
   "id": "14bf1d2f",
   "metadata": {},
   "source": [
    "Por hipótese:\n",
    "$$\n",
    "p(b_j) = \\frac{1}{\\sqrt{2\\pi C_b}} \\exp(-\\frac{b_j^2}{2C_b})\n",
    "$$\n",
    "\n",
    "$$\n",
    "p(W_{jk}) = \\frac{1}{\\sqrt{2\\pi C_W/n_0}} \\exp(-\\frac{n_0 W_{jk}^2}{2C_W})\n",
    "$$"
   ]
  },
  {
   "cell_type": "markdown",
   "id": "88142a1c",
   "metadata": {},
   "source": [
    "Vamos usar a **transformação de Hubbard-Stratonovich**. I.e., a representação integral do delta de Dirac:\n",
    "\n",
    "$$\n",
    "\\delta(z-a) = \\int \\frac{d\\Lambda}{2\\pi}e^{i\\Lambda (z-a)}\n",
    "$$"
   ]
  },
  {
   "cell_type": "markdown",
   "id": "2195bc4c",
   "metadata": {},
   "source": [
    "Obtemos:\n",
    "\n",
    "$$\n",
    "p(z \\mid D) = \\int \\left[ \\prod_j \\frac{db_j}{\\sqrt{2\\pi C_b}} \\exp(-\\frac{b_j^2}{2C_b}) \\right] \n",
    "\\left[ \\prod_{j,k} \\frac{dW_{jk}}{\\sqrt{2\\pi C_W/n_0}} \\exp(-\\frac{n_0 W_{jk}^2}{2C_W}) \\right] \n",
    "\\left[\\prod_{j,\\alpha}  \\int \\frac{d\\Lambda}{2\\pi}e^{i\\Lambda (z-a)} \\right] \\\\\n",
    "\n",
    "\n",
    "= \\int \\left[ \\prod_j \\frac{db_i}{\\sqrt{2\\pi C_b}} \\right]\n",
    "\\left[ \\prod_{i,j} \\frac{dW_{ij}}{\\sqrt{2\\pi C_W / n_0}} \\right]\n",
    "\\left[ \\prod_{i,\\alpha} \\frac{d\\Lambda_{i}^{\\alpha}}{2\\pi} \\right] \\\\\n",
    "\n",
    "\\times \\exp \\left[\n",
    "- \\sum_j \\frac{b_j^2}{2C_b}\n",
    "- n_0 \\sum_{jk} \\frac{W_{jk}^2}{2C_W}\n",
    "+ i \\sum_{j,\\alpha} \\Lambda_{j}^{\\alpha} \n",
    "\\left( z_{j;\\alpha} - b_j - \\sum_j W_{jk} x_{j;\\alpha} \\right)\n",
    "\\right] \n",
    "$$"
   ]
  },
  {
   "cell_type": "markdown",
   "id": "ef85e8bf",
   "metadata": {},
   "source": [
    "Completando quadrados:\n",
    "$$\n",
    "\\sum_j \\frac{b_j^2}{2C_b}\n",
    "- n_0 \\sum_{i,j} \\frac{W_{jk}^2}{2C_W}\n",
    "+ i \\sum_{j,\\alpha} \\Lambda_{j}^{\\alpha} \n",
    "\\left( z_{j;\\alpha} - b_j - \\sum_j W_{jk} x_{k;\\alpha} \\right) \\\\\n",
    "\n",
    "= -\\frac{1}{2C_b} \\sum_j \\left( b_j + i C_b \\sum_\\alpha \\Lambda_{j}^{\\alpha} \\right)^2\n",
    "- \\frac{n_0}{2C_W} \\sum_{j,k} \\left( W_{jk} + i \\frac{C_W}{n_0} \\sum_\\alpha \\Lambda_{j}^{\\alpha} x_{k;\\alpha} \\right)^2 \\\\\n",
    "\n",
    "- \\frac{C_W}{2n_0} \\sum_{j,k} \\left( \\sum_\\alpha \\Lambda_{j}^{\\alpha} x_{k;\\alpha} \\right)^2\n",
    "- \\frac{C_b}{2} \\sum_j \\left( \\sum_\\alpha \\Lambda_{j}^{\\alpha} \\right)^2\n",
    "+ i \\sum_{j,\\alpha} \\Lambda_{j}^{\\alpha} z_{j;\\alpha} \\\\\n",
    "\n",
    "$$\n"
   ]
  },
  {
   "cell_type": "markdown",
   "id": "aa0a749e",
   "metadata": {},
   "source": [
    "Voltando pra integral, começa a mentirada:\n",
    "\n",
    "$$\n",
    "\\int \\left[ \\prod_j \\frac{db_j}{\\sqrt{2\\pi C_b}} \\right]\n",
    "\\left[ \\prod_{i,j} \\frac{dW_{ij}}{\\sqrt{2\\pi C_W / n_0}} \\right]\n",
    "\\left[ \\prod_{i,\\alpha} \\frac{d\\Lambda_{i}^{\\alpha}}{2\\pi} \\right] \\\\\n",
    "\n",
    "\\times \\exp \\left[\n",
    "- \\sum_j \\frac{b_j^2}{2C_b}\n",
    "- n_0 \\sum_{jk} \\frac{W_{jk}^2}{2C_W}\n",
    "+ i \\sum_{j,\\alpha} \\Lambda_{j}^{\\alpha} \n",
    "\\left( z_{j;\\alpha} - b_j - \\sum_j W_{jk} x_{j;\\alpha} \\right)\n",
    "\\right] \\\\\n",
    "$$\n",
    "\n",
    "$$\n",
    "= \\int \\left[ \\prod_j \\frac{db_i}{\\sqrt{2\\pi C_b}} \\right]\n",
    "\\left[ \\prod_{i,j} \\frac{dW_{ij}}{\\sqrt{2\\pi C_W / n_0}} \\right]\n",
    "\\left[ \\prod_{i,\\alpha} \\frac{d\\Lambda_{i}^{\\alpha}}{2\\pi} \\right] \\\\\n",
    "\n",
    "\\exp \\left[ -\\frac{1}{2C_b} \\sum_j \\left( b_j + i C_b \\sum_\\alpha \\Lambda_{j}^{\\alpha} \\right)^2 \\right]\n",
    "\\exp \\left[- \\frac{n_0}{2C_W} \\sum_{j,k} \\left( W_{jk} + i \\frac{C_W}{n_0} \\sum_\\alpha \\Lambda_{j}^{\\alpha} x_{k;\\alpha} \\right)^2 \\right]\\\\\n",
    "\n",
    "\\exp \\left[- \\frac{C_W}{2n_0} \\sum_{j,k} \\left( \\sum_\\alpha \\Lambda_{j}^{\\alpha} x_{k;\\alpha} \\right)^2\n",
    "- \\frac{C_b}{2} \\sum_j \\left( \\sum_\\alpha \\Lambda_{j}^{\\alpha} \\right)^2\n",
    "+ i \\sum_{j,\\alpha} \\Lambda_{j}^{\\alpha} z_{j;\\alpha} \\right] \\\\\n",
    "$$\n",
    "\n",
    "$$\n",
    "\\textcolor{teal}{\n",
    "= \\int \\left[ \\prod_j \\frac{db_i}{\\sqrt{2\\pi C_b}} \\right] \\exp \\left[ -\\frac{1}{2C_b} \\sum_j \\left( b_j + i C_b \\sum_\\alpha \\Lambda_{j}^{\\alpha} \\right)^2 \\right]\n",
    "} \\\\\n",
    "\n",
    "\\textcolor{orange}{\n",
    "\\int \\left[ \\prod_{i,j} \\frac{dW_{ij}}{\\sqrt{2\\pi C_W / n_0}} \\right] \\exp \\left[- \\frac{n_0}{2C_W} \\sum_{j,k} \\left( W_{jk} + i \\frac{C_W}{n_0} \\sum_\\alpha \\Lambda_{j}^{\\alpha} x_{k;\\alpha} \\right)^2 \\right] }\\\\\n",
    "\n",
    "\\int \\left[ \\prod_{i,\\alpha} \\frac{d\\Lambda_{i}^{\\alpha}}{2\\pi} \\right] \n",
    "\\exp \\left[- \\frac{C_W}{2n_0} \\sum_{j,k} \\left( \\sum_\\alpha \\Lambda_{j}^{\\alpha} x_{k;\\alpha} \\right)^2\n",
    "- \\frac{C_b}{2} \\sum_j \\left( \\sum_\\alpha \\Lambda_{j}^{\\alpha} \\right)^2\n",
    "+ i \\sum_{j,\\alpha} \\Lambda_{j}^{\\alpha} z_{j;\\alpha} \\right] \\\\\n",
    "\n",
    "$$"
   ]
  },
  {
   "cell_type": "markdown",
   "id": "99ee9de4",
   "metadata": {},
   "source": [
    "Olhando bem, são integrais Gaussianas deslocadas por uma média:\n",
    "$$\n",
    "\\textcolor{teal}{\\int \\left[ \\prod_j \\frac{db_j}{\\sqrt{2\\pi C_b}} \\right] \\exp \\left[ -\\frac{1}{2C_b} \\sum_j \\left( b_j + i C_b \\sum_\\alpha \\Lambda_{j}^{\\alpha} \\right)^2 \\right]} \n",
    "    = \\prod_j\\int \\left[\\frac{db_j}{\\sqrt{2\\pi C_b}} \\exp\\left(-\\frac{(b_j-\\mu_b)^2}{2C_b}\\right)\\right] \n",
    "$$\n",
    "\n",
    "com a média $\\mu_b = - i C_b \\sum_\\alpha \\Lambda_{j}^{\\alpha}$. Assim, cada integral dessa é igual a 1, e some da representação.\n",
    "\n",
    "De forma análoga, a integral envolvendo $\\textcolor{orange}{W_{ij}}$ vira 1."
   ]
  },
  {
   "cell_type": "markdown",
   "id": "1f38f491",
   "metadata": {},
   "source": [
    "Então...\n",
    "$$\n",
    "p(z \\mid D) = \\int \\left[ \\prod_{i,\\alpha} \\frac{d\\Lambda_{i}^{\\alpha}}{2\\pi} \\right] \n",
    "\\exp \\left[- \\frac{C_W}{2n_0} \\sum_{j,k} \\left( \\sum_\\alpha \\Lambda_{j}^{\\alpha} x_{k;\\alpha} \\right)^2\n",
    "- \\frac{C_b}{2} \\sum_j \\left( \\sum_\\alpha \\Lambda_{j}^{\\alpha} \\right)^2\n",
    "+ i \\sum_{j,\\alpha} \\Lambda_{j}^{\\alpha} z_{j;\\alpha} \\right] \\\\\n",
    "\n",
    "= \\int \\left[ \\prod_{i,\\alpha} \\frac{d\\Lambda_{i}^{\\alpha}}{2\\pi} \\right] \n",
    "\\exp \\left[- \\frac{C_W}{2n_0} \\sum_{j,k} \\sum_{\\alpha_1\\alpha_2} \\Lambda_{j}^{\\alpha_1}\\Lambda_{j}^{\\alpha_2} x_{k;\\alpha_1} x_{k;\\alpha_2} \n",
    "- \\frac{C_b}{2} \\sum_j \\sum_{\\alpha_1\\alpha_2} \\Lambda_{j}^{\\alpha_1}\\Lambda_{j}^{\\alpha_2}\n",
    "+ i \\sum_{j,\\alpha} \\Lambda_{j}^{\\alpha} z_{j;\\alpha} \\right] \\\\\n",
    "\n",
    "= \\int \\left[ \\prod_{i,\\alpha} \\frac{d\\Lambda_{i\\alpha}}{2\\pi} \\right] \n",
    "\\exp \\left[- \\frac{1}{2} \\sum_{j,\\alpha_1\\alpha_2} \\Lambda_{j}^{\\alpha_1}\\Lambda_{j}^{\\alpha_2} \\textcolor{teal}{\\left(C_b + C_W \\frac{1}{n_0}\\sum_k x_{k;\\alpha_1} x_{k;\\alpha_2} \\right)}\n",
    "+ i \\sum_{j,\\alpha} \\Lambda_{j}^{\\alpha} z_{j;\\alpha} \\right] \\\\\n",
    "\n",
    "=  \\int \\left[ \\prod_{i,\\alpha} \\frac{d\\Lambda_{i\\alpha}}{2\\pi} \\right] \n",
    "\\exp \\left[- \\frac{1}{2} \\sum_{j,\\alpha_1\\alpha_2} \\Lambda_{j}^{\\alpha_1}\\Lambda_{j}^{\\alpha_2} \\textcolor{teal}{G_{\\alpha_1\\alpha_2}}\n",
    "+ i \\sum_{j,\\alpha} \\Lambda_{j}^{\\alpha} z_{j;\\alpha} \\right] \\\\\n",
    "\n",
    "$$"
   ]
  },
  {
   "cell_type": "markdown",
   "id": "a15bc2b6",
   "metadata": {},
   "source": [
    "No argumento da exponencial, temos completando quadrados:\n",
    "\n",
    "$$\n",
    "- \\frac{1}{2} \\sum_{j,\\alpha_1\\alpha_2} \\Lambda_{j}^{\\alpha_1}\\Lambda_{j}^{\\alpha_2} \\textcolor{teal}{G_{\\alpha_1\\alpha_2}}\n",
    "+ i \\sum_{j,\\alpha} \\Lambda_{j}^{\\alpha} z_{j;\\alpha} \\\\\n",
    "\n",
    "= - \\frac{1}{2} \\sum_{i, \\alpha_1, \\alpha_2} \\left[\n",
    "G_{\\alpha_1 \\alpha_2}\n",
    "\\left( \n",
    "\\Lambda^{\\alpha_1}_i - i \\sum_{\\beta_1} G^{\\alpha_1 \\beta_1} z_{i;\\beta_1}\n",
    "\\right)\n",
    "\\left( \n",
    "\\Lambda^{\\alpha_2}_i - i \\sum_{\\beta_2} G^{\\alpha_2 \\beta_2} z_{i;\\beta_2}\n",
    "\\right)\n",
    "+ G^{\\alpha_1 \\alpha_2} z_{i;\\alpha_1} z_{i;\\alpha_2}\n",
    "\\right]\n",
    "$$"
   ]
  },
  {
   "cell_type": "markdown",
   "id": "8f3a435b",
   "metadata": {},
   "source": [
    "**(???)**"
   ]
  },
  {
   "cell_type": "markdown",
   "id": "07e3cfa0",
   "metadata": {},
   "source": [
    "### Ação Gaussiana em ação"
   ]
  },
  {
   "cell_type": "markdown",
   "id": "abd842d8",
   "metadata": {},
   "source": [
    "$$\n",
    "\\mathbb{E} \\left[ \\sigma\\left( z^{(1)}_{i_1;\\alpha_1} \\right) \\sigma\\left( z^{(1)}_{i_1;\\alpha_2} \\right) \\right]\n",
    "= \\int \\left[ \\prod_{i=1}^{n_1} \\prod_{\\alpha \\in D} \\frac{dz_{i;\\alpha}}{\\sqrt{|2\\pi G^{(1)}|}} \\right]\n",
    "\\exp\\left( -\\frac{1}{2} \\sum_{j=1}^{n_1} \\sum_{\\beta_1, \\beta_2 \\in D} G^{(1)}_{\\beta_1 \\beta_2} z_{j;\\beta_1} z_{j;\\beta_2} \\right)\n",
    "\\sigma(z_{i_1;\\alpha_1}) \\sigma(z_{i_1;\\alpha_2})\n",
    "$$\n",
    "\n",
    "$$\n",
    "= \\left\\{ \\prod_{i \\ne i_1} \\int \\left[ \\prod_{\\alpha \\in D} \\frac{dz_{i;\\alpha}}{\\sqrt{|2\\pi G^{(1)}|}} \\right]\n",
    "\\exp\\left( -\\frac{1}{2} \\sum_{\\beta_1, \\beta_2 \\in D} G^{(1)}_{\\beta_1 \\beta_2} z_{i;\\beta_1} z_{i;\\beta_2} \\right) \\right\\}\n",
    "$$\n",
    "\n",
    "$$\n",
    "\\times \\int \\left[ \\prod_{\\alpha \\in D} \\frac{dz_{i_1;\\alpha}}{\\sqrt{|2\\pi G^{(1)}|}} \\right]\n",
    "\\exp\\left( -\\frac{1}{2} \\sum_{\\beta_1, \\beta_2 \\in D} G_{(1)}^{\\beta_1 \\beta_2} z_{i_1;\\beta_1} z_{i_1;\\beta_2} \\right)\n",
    "\\sigma(z_{i_1;\\alpha_1}) \\sigma(z_{i_1;\\alpha_2})\n",
    "$$\n",
    "\n",
    "$$\n",
    "= \\{1\\} \\times \\left[ \\int \\prod_{\\alpha \\in D} \\frac{dz_{i_1\\alpha}}{\\sqrt{|2\\pi G^{(1)}|}}\\right] \n",
    "\\exp\\left( -\\frac{1}{2} \\sum_{\\beta_1, \\beta_2 \\in D} G_{(1)}^{\\beta_1 \\beta_2} z_{i_1\\beta_1} z_{i_1\\beta_2} \\right)\n",
    "\\sigma(z_{i_1\\alpha_1}) \\sigma(z_{i_1\\alpha_2}) \\\\\n",
    "\n",
    ":= \\langle \\sigma(z_{i_1\\alpha_1})\\sigma(z_{i_1\\alpha_2}) \\rangle_{G^{(1)}}\n",
    "$$"
   ]
  },
  {
   "cell_type": "markdown",
   "id": "b0293906",
   "metadata": {},
   "source": [
    "Com a expressão do final, reintroduzimos a notação:\n",
    "\n",
    "$$\n",
    "\\left\\langle F(z_{\\alpha_1}, \\ldots, z_{\\alpha_m}) \\right\\rangle_g \n",
    "\\equiv \n",
    "\\displaystyle \\int \\left[\\frac{\\prod_{\\alpha \\in D} dz_\\alpha}{\\sqrt{|2\\pi g|}} \\right]\n",
    "\\exp\\left( -\\frac{1}{2} \\sum_{\\beta_1, \\beta_2 \\in D} g^{\\beta_1 \\beta_2} z_{\\beta_1} z_{\\beta_2} \\right)\n",
    "F(z_{\\alpha_1}, \\ldots, z_{\\alpha_m})\n",
    "$$\n",
    "\n",
    "e denotamos ainda:\n",
    "\n",
    "$$\n",
    "\\sigma_\\alpha := \\sigma(z_\\alpha)\n",
    "$$"
   ]
  },
  {
   "cell_type": "markdown",
   "id": "67ce019d",
   "metadata": {},
   "source": [
    "$$\n",
    "\\mathbb{E} \\left[ \\sigma\\left( z^{(1)}_{i_1;\\alpha_1} \\right) \\sigma\\left( z^{(1)}_{i_1;\\alpha_2} \\right) \\right] = \\langle \\sigma_{\\alpha_1} \\sigma_{\\alpha_2} \\rangle_{G^{(1)}}\n",
    "$$"
   ]
  },
  {
   "cell_type": "markdown",
   "id": "3de92c32",
   "metadata": {},
   "source": [
    "É possível ainda generalizar para correlatores de mais pontos. Para todas as saídas do mesmo neurônio $i_1$:\n",
    "$$\n",
    "\\mathbb{E} \\left[ \\sigma( z^{(1)}_{i_1;\\alpha_1} ) \\sigma( z^{(1)}_{i_1;\\alpha_2})\\sigma( z^{(1)}_{i_1;\\alpha_3}) \\sigma( z^{(1)}_{i_1;\\alpha_4}) \\right] = \\langle \\sigma_{\\alpha_1} \\sigma_{\\alpha_2}\\sigma_{\\alpha_3}\\sigma_{\\alpha_4} \\rangle_{G^{(1)}}\n",
    "$$\n",
    "fazendo as exatas mesmas etapas."
   ]
  },
  {
   "cell_type": "markdown",
   "id": "b35e6c6b",
   "metadata": {
    "vscode": {
     "languageId": "tex"
    }
   },
   "source": [
    "Para $i_1\\neq i_2$\n",
    "\n",
    "$$\n",
    "\\mathbb{E} \\left[\n",
    "\\sigma\\left( z^{(1)}_{i_1;\\alpha_1} \\right)\n",
    "\\sigma\\left( z^{(1)}_{i_1;\\alpha_2} \\right)\n",
    "\\sigma\\left( z^{(1)}_{i_2;\\alpha_3} \\right)\n",
    "\\sigma\\left( z^{(1)}_{i_2;\\alpha_4} \\right)\n",
    "\\right]\n",
    "$$\n",
    "\n",
    "$$\n",
    "= \\left\\{ \n",
    "\\prod_{i \\notin \\{i_1, i_2\\}} \n",
    "\\displaystyle \\int \\left[ \\prod_{\\alpha \\in D} \\frac{dz_{i;\\alpha}}{\\sqrt{|2\\pi G^{(1)}|}} \\right]\n",
    "\\exp\\left( -\\frac{1}{2} \\sum_{\\beta_1, \\beta_2 \\in D} G_{(1)}^{\\beta_1 \\beta_2} z_{i;\\beta_1} z_{i;\\beta_2} \\right)\n",
    "\\right\\}\n",
    "$$\n",
    "\n",
    "$$\n",
    "\\times \\displaystyle \\int \\left[ \\frac{\\prod_{\\alpha \\in D} dz_{i_1;\\alpha}}{\\sqrt{|2\\pi G^{(1)}|}} \\right]\n",
    "\\exp\\left( -\\frac{1}{2} \\sum_{\\beta_1, \\beta_2 \\in D} G_{(1)}^{\\beta_1 \\beta_2} z_{i_1;\\beta_1} z_{i_1;\\beta_2} \\right)\n",
    "\\sigma(z_{i_1;\\alpha_1}) \\sigma(z_{i_1;\\alpha_2})\n",
    "$$\n",
    "\n",
    "$$\n",
    "\\times \\displaystyle \\int \\left[ \\frac{\\prod_{\\alpha \\in D} dz_{i_2;\\alpha}}{\\sqrt{|2\\pi G^{(1)}|}} \\right]\n",
    "\\exp\\left( -\\frac{1}{2} \\sum_{\\beta_1, \\beta_2 \\in D} G_{(1)}^{\\beta_1 \\beta_2} z_{i_2;\\beta_1} z_{i_2;\\beta_2} \\right)\n",
    "\\sigma(z_{i_2;\\alpha_3}) \\sigma(z_{i_2;\\alpha_4})\n",
    "$$\n",
    "\n",
    "$$\n",
    "= \\left\\langle \\sigma(z_{\\alpha_1}) \\sigma(z_{\\alpha_2}) \\right\\rangle_{G^{(1)}}\n",
    "\\left\\langle \\sigma(z_{\\alpha_3}) \\sigma(z_{\\alpha_4}) \\right\\rangle_{G^{(1)}}\n",
    "$$\n",
    "\n"
   ]
  },
  {
   "cell_type": "markdown",
   "id": "a27f8872",
   "metadata": {},
   "source": [
    "I.e.:\n",
    "\n",
    "$$\n",
    "\\mathbb{E} \\left[\n",
    "\\sigma\\left( z^{(1)}_{i_1;\\alpha_1} \\right)\n",
    "\\sigma\\left( z^{(1)}_{i_1;\\alpha_2} \\right)\n",
    "\\sigma\\left( z^{(1)}_{i_2;\\alpha_3} \\right)\n",
    "\\sigma\\left( z^{(1)}_{i_2;\\alpha_4} \\right)\n",
    "\\right]\n",
    "= \\left\\langle \\sigma(z_{\\alpha_1}) \\sigma(z_{\\alpha_2}) \\right\\rangle_{G^{(1)}}\n",
    "\\left\\langle \\sigma(z_{\\alpha_3}) \\sigma(z_{\\alpha_4}) \\right\\rangle_{G^{(1)}}\n",
    "\n",
    "$$\n",
    "\n",
    "Isso ilustra a independência entre as distribuições de neurônios diferentes."
   ]
  }
 ],
 "metadata": {
  "kernelspec": {
   "display_name": "Python 3",
   "language": "python",
   "name": "python3"
  },
  "language_info": {
   "name": "python",
   "version": "3.10.12"
  }
 },
 "nbformat": 4,
 "nbformat_minor": 5
}
